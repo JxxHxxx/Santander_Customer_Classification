{
 "cells": [
  {
   "cell_type": "code",
   "execution_count": 2,
   "source": [
    "import pandas as pd\r\n",
    "import matplotlib.pyplot as plt"
   ],
   "outputs": [],
   "metadata": {}
  },
  {
   "cell_type": "code",
   "execution_count": 3,
   "source": [
    "train = pd.read_csv('train.csv')\r\n",
    "test = pd.read_csv('test.csv')"
   ],
   "outputs": [],
   "metadata": {}
  },
  {
   "cell_type": "code",
   "execution_count": 14,
   "source": [
    "EDAtr = pd.read_csv('EDAtrain.csv')"
   ],
   "outputs": [],
   "metadata": {}
  },
  {
   "cell_type": "code",
   "execution_count": 15,
   "source": [
    "EDAtr.to_sql(name='EDAtr', con=engine, if_exists='append')\r\n"
   ],
   "outputs": [
    {
     "output_type": "stream",
     "name": "stderr",
     "text": [
      "C:\\Users\\JH\\AppData\\Local\\Programs\\Python\\Python38\\lib\\site-packages\\pandas\\io\\sql.py:1685: UserWarning: The provided table name 'EDAtr' is not found exactly as such in the database after writing the table, possibly due to case sensitivity issues. Consider using lower case table names.\n",
      "  warnings.warn(msg, UserWarning)\n"
     ]
    }
   ],
   "metadata": {}
  },
  {
   "cell_type": "code",
   "execution_count": 7,
   "source": [
    "import scipy.io\r\n",
    "import csv\r\n",
    "import pymysql\r\n",
    "\r\n",
    "conn = pymysql.connect(host='127.0.0.1', user='root', password='111111', db='santander', charset='utf8')\r\n",
    "conn.cursor()\r\n",
    "conn.commit()\r\n",
    "\r\n",
    "f = open('C:/Users/JH/Desktop/Santander Customer Transaction Prediction/test.csv','r')\r\n",
    "\r\n",
    "csvReader = csv.reader(f)\r\n",
    "\r\n",
    "conn.commit()\r\n",
    "\r\n",
    "f.close()\r\n",
    "conn.close()"
   ],
   "outputs": [],
   "metadata": {}
  },
  {
   "cell_type": "code",
   "execution_count": null,
   "source": [
    "import pandas as pd\r\n",
    "import pymysql\r\n",
    "from sqlalchemy import create_engine\r\n",
    "\r\n",
    "# pymysql 세팅\r\n",
    "db = pymysql.connect(user = 'root', host = '127.0.0.1', passwd = '111111', port = 3306, db = 'santander', charset='utf8')\r\n",
    "cursor = db.cursor()\r\n",
    "\r\n",
    "# csv파일 불러오기\r\n",
    "train = pd.read_csv('C:/Users/JH/Desktop/Santander Customer Transaction Prediction/train.csv.csv')\r\n",
    "train.columns = ['테이블과 동일한 컬럼명 사용하도록 수정']\r\n",
    "\r\n",
    "# sqlalchemy를 사용해 원하는 database에 csv파일 저장\r\n",
    "engine = create_engine(\"mysql+pymysql://유저이름:\"+\"비밀번호\"+\"@호스트주소:포트숫자/데이터베이스이름?charset=utf8\", encoding = \"utf-8\")\r\n",
    "conn = engine.connect()\r\n",
    "train.to_sql(name = \"train\", con = engine, if_exist = 'append', index = False)\r\n",
    "conn.close()"
   ],
   "outputs": [],
   "metadata": {}
  }
 ],
 "metadata": {
  "orig_nbformat": 4,
  "language_info": {
   "name": "python",
   "version": "3.8.10",
   "mimetype": "text/x-python",
   "codemirror_mode": {
    "name": "ipython",
    "version": 3
   },
   "pygments_lexer": "ipython3",
   "nbconvert_exporter": "python",
   "file_extension": ".py"
  },
  "kernelspec": {
   "name": "python3",
   "display_name": "Python 3.8.10 64-bit"
  },
  "interpreter": {
   "hash": "7f09f6c13a7c7aa057c810448856952a1755399d2db0cdb0b52c16a6e1a96a6e"
  }
 },
 "nbformat": 4,
 "nbformat_minor": 2
}